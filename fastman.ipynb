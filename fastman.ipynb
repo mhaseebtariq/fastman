{
 "cells": [
  {
   "cell_type": "markdown",
   "id": "9af5h50f",
   "metadata": {},
   "source": [
    "### The implementation is tailored for running things in a distributed and scalable way. With minimal changes the code can therefore, be executed on a massively large dataset."
   ]
  },
  {
   "cell_type": "code",
   "execution_count": 1,
   "id": "e0942390",
   "metadata": {},
   "outputs": [],
   "source": [
    "import sys\n",
    "\n",
    "if sys.version_info.major != 3:\n",
    "    raise EnvironmentError(\"The code has only been tested on Python version 3\")\n",
    "if sys.version_info.minor < 7:\n",
    "    raise EnvironmentError(\"The code has only been tested on Python version 3.7+\")"
   ]
  },
  {
   "cell_type": "markdown",
   "id": "5cf2f58f",
   "metadata": {},
   "source": [
    "### Pre-requisite Libraries"
   ]
  },
  {
   "cell_type": "code",
   "execution_count": 2,
   "id": "ab3ec2c8",
   "metadata": {},
   "outputs": [],
   "source": [
    "! pip install matplotlib==3.4.3\n",
    "! pip install networkx==2.6.3\n",
    "! pip install pandas==1.4.1\n",
    "! pip install pyspark==3.2.0\n",
    "! pip install graphframes==0.6\n",
    "! pip install leidenalg==0.9.1"
   ]
  },
  {
   "cell_type": "code",
   "execution_count": 3,
   "id": "b64ed6d6",
   "metadata": {},
   "outputs": [],
   "source": [
    "import os\n",
    "import shutil\n",
    "from io import StringIO\n",
    "from datetime import datetime, timedelta\n",
    "\n",
    "import igraph as ig\n",
    "import networkx as nx\n",
    "import pandas as pd\n",
    "import leidenalg as la\n",
    "from pyspark.sql import functions as sf\n",
    "from pyspark import SparkConf\n",
    "from pyspark.sql import SparkSession\n",
    "from graphframes import GraphFrame"
   ]
  },
  {
   "cell_type": "code",
   "execution_count": 4,
   "id": "2f770848",
   "metadata": {},
   "outputs": [],
   "source": [
    "DATA_FOLDER = os.path.join(\".\", \"data\")"
   ]
  },
  {
   "cell_type": "code",
   "execution_count": 20,
   "id": "9704efec",
   "metadata": {},
   "outputs": [],
   "source": [
    "config = [(\"spark.jars.packages\", \"graphframes:graphframes:0.8.2-spark3.2-s_2.12\")]\n",
    "spark = SparkSession.builder.appName(\"fastman\").config(conf=SparkConf().setAll(config)).getOrCreate()"
   ]
  },
  {
   "cell_type": "code",
   "execution_count": 6,
   "id": "6125340a",
   "metadata": {},
   "outputs": [
    {
     "name": "stderr",
     "output_type": "stream",
     "text": [
      "                                                                                \r"
     ]
    }
   ],
   "source": [
    "# Prepare input data\n",
    "\n",
    "location_staging = os.path.join(DATA_FOLDER, \"staging\")\n",
    "\n",
    "transactions = StringIO(\n",
    "\"\"\"\n",
    "id,source,target,timestamp,amount\n",
    "1,A,B,2020-01-01 12:35:01,100\n",
    "2,B,D,2020-01-02 22:40:05,800\n",
    "3,A,B,2020-01-03 01:35:49,50\n",
    "4,B,C,2020-01-04 09:10:12,150\n",
    "5,D,E,2020-01-05 08:01:10,900\n",
    "6,E,A,2020-01-05 22:15:12,600\n",
    "7,A,K,2020-01-06 00:55:32,2500\n",
    "8,D,L,2020-01-08 11:15:26,3000\n",
    "9,E,L,2020-01-09 09:30:40,10\n",
    "10,L,M,2020-01-10 13:10:55,90\n",
    "\"\"\"\n",
    ")\n",
    "transactions = pd.read_csv(transactions, sep=\",\")\n",
    "transactions.loc[:, \"transaction_timestamp\"] = pd.to_datetime(transactions.loc[:, \"timestamp\"])\n",
    "transactions.loc[:, \"transaction_date\"] = transactions.loc[:, \"transaction_timestamp\"].dt.date\n",
    "transactions.loc[:, \"transaction_timestamp\"] = (\n",
    "    transactions.loc[:, \"transaction_timestamp\"].values.astype(int) // 10**9\n",
    ")\n",
    "del transactions[\"timestamp\"]\n",
    "transactions.to_parquet(location_staging)\n",
    "\n",
    "location_transactions = os.path.join(DATA_FOLDER, \"transactions\")\n",
    "staged = spark.read.parquet(location_staging)\n",
    "(\n",
    "    staged.repartition(\"transaction_date\")\n",
    "    .write.partitionBy(\"transaction_date\")\n",
    "    .mode(\"overwrite\")\n",
    "    .parquet(location_transactions)\n",
    ")"
   ]
  },
  {
   "cell_type": "code",
   "execution_count": 7,
   "id": "ceadda7a",
   "metadata": {},
   "outputs": [
    {
     "name": "stdout",
     "output_type": "stream",
     "text": [
      "+---+------+------+------+---------------------+----------------+\n",
      "| id|source|target|amount|transaction_timestamp|transaction_date|\n",
      "+---+------+------+------+---------------------+----------------+\n",
      "|  1|     A|     B|   100|           1577882101|      2020-01-01|\n",
      "|  2|     B|     D|   800|           1578004805|      2020-01-02|\n",
      "|  3|     A|     B|    50|           1578015349|      2020-01-03|\n",
      "|  4|     B|     C|   150|           1578129012|      2020-01-04|\n",
      "|  5|     D|     E|   900|           1578211270|      2020-01-05|\n",
      "|  6|     E|     A|   600|           1578262512|      2020-01-05|\n",
      "|  7|     A|     K|  2500|           1578272132|      2020-01-06|\n",
      "|  8|     D|     L|  3000|           1578482126|      2020-01-08|\n",
      "|  9|     E|     L|    10|           1578562240|      2020-01-09|\n",
      "| 10|     L|     M|    90|           1578661855|      2020-01-10|\n",
      "+---+------+------+------+---------------------+----------------+\n",
      "\n"
     ]
    }
   ],
   "source": [
    "data = spark.read.parquet(location_transactions)\n",
    "data.sort(\"id\").show()"
   ]
  },
  {
   "cell_type": "code",
   "execution_count": 8,
   "id": "58b67b5d",
   "metadata": {},
   "outputs": [],
   "source": [
    "# FaSTMⱯN Parameters\n",
    "\n",
    "# This is a dummy value in days --> Change this\n",
    "WINDOW = 3\n",
    "# This is also dummy\n",
    "MIN_EDGE_WEIGHT = 0.5"
   ]
  },
  {
   "cell_type": "code",
   "execution_count": 9,
   "id": "5a7fa0ed",
   "metadata": {},
   "outputs": [],
   "source": [
    "def rename_columns(dataframe, names):\n",
    "    for name, new_name in names.items():\n",
    "        dataframe = dataframe.withColumnRenamed(name, new_name)\n",
    "    return dataframe\n",
    "\n",
    "\n",
    "def max_timestamp(dt):\n",
    "    year, month, date = dt.split(\"-\")\n",
    "    return (datetime(int(year), int(month), int(date)) + timedelta(days=1)).timestamp()"
   ]
  },
  {
   "cell_type": "markdown",
   "id": "9c64aa3d",
   "metadata": {},
   "source": [
    "## Temporal Graph of Sequential Transactions"
   ]
  },
  {
   "cell_type": "markdown",
   "id": "d30c2627",
   "metadata": {},
   "source": [
    "### Iterative Joins"
   ]
  },
  {
   "cell_type": "code",
   "execution_count": 10,
   "id": "e0ad226e",
   "metadata": {},
   "outputs": [],
   "source": [
    "location_joins = os.path.join(DATA_FOLDER, \"joins\")\n",
    "shutil.rmtree(location_joins, ignore_errors=True)\n",
    "\n",
    "left_columns = {x: f\"{x}_left\" for x in data.columns}\n",
    "dates = data.select(\"transaction_date\").distinct().toPandas()\n",
    "dates = sorted([str(x) for x in dates[\"transaction_date\"].tolist()])\n",
    "for transaction_date in dates:\n",
    "    start_index = dates.index(transaction_date)\n",
    "    end_index = start_index + WINDOW + 1\n",
    "    right_dates = dates[start_index:end_index]\n",
    "    end_date_max = str(pd.to_datetime(transaction_date).date() + timedelta(days=WINDOW))\n",
    "    right_dates = [x for x in right_dates if x <= end_date_max]\n",
    "    right = spark.read.option(\"basePath\", location_transactions).parquet(\n",
    "        *[f\"{location_transactions}{os.sep}transaction_date={x}\" for x in right_dates]\n",
    "    )\n",
    "    left = rename_columns(right.where(right.transaction_timestamp < max_timestamp(transaction_date)), left_columns)\n",
    "    join = left.join(right, left.target_left == right.source, \"inner\")\n",
    "    join = join.withColumn(\"delta\", join.transaction_timestamp - join.transaction_timestamp_left)\n",
    "    join = join.where(join.delta > 0)\n",
    "    join.write.parquet(f\"{location_joins}/staging_date={transaction_date}\", mode=\"overwrite\")"
   ]
  },
  {
   "cell_type": "code",
   "execution_count": 11,
   "id": "1bd512a0",
   "metadata": {},
   "outputs": [],
   "source": [
    "joins = spark.read.parquet(location_joins)"
   ]
  },
  {
   "cell_type": "markdown",
   "id": "13293d54",
   "metadata": {},
   "source": [
    "### Nodes and Edges Creation"
   ]
  },
  {
   "cell_type": "code",
   "execution_count": 12,
   "id": "05151b39",
   "metadata": {},
   "outputs": [],
   "source": [
    "node_columns = [\n",
    "    \"id\",\n",
    "    \"source\",\n",
    "    \"target\",\n",
    "    \"transaction_date\",\n",
    "    \"transaction_timestamp\",\n",
    "    \"amount\",\n",
    "]\n",
    "\n",
    "nodes_1 = (\n",
    "    (\n",
    "        joins.select(\n",
    "            sf.col(\"id_left\").alias(\"id\"),\n",
    "            sf.col(\"source_left\").alias(\"source\"),\n",
    "            sf.col(\"target_left\").alias(\"target\"),\n",
    "            sf.col(\"transaction_timestamp_left\").alias(\"transaction_timestamp\"),\n",
    "            sf.col(\"amount_left\").alias(\"amount\"),\n",
    "            sf.col(\"transaction_date_left\").alias(\"transaction_date\"),\n",
    "        )\n",
    "    )\n",
    "    .select(*node_columns)\n",
    "    .drop_duplicates(subset=[\"id\"])\n",
    ")\n",
    "nodes_2 = joins.select(*node_columns).drop_duplicates(subset=[\"id\"])\n",
    "nodes = nodes_1.union(nodes_2).drop_duplicates(subset=[\"id\"])\n",
    "\n",
    "edges = joins.select(\n",
    "    sf.col(\"id_left\").alias(\"src\"),\n",
    "    sf.col(\"id\").alias(\"dst\"),\n",
    "    sf.col(\"transaction_date_left\").alias(\"src_date\"),\n",
    "    sf.col(\"transaction_date\").alias(\"dst_date\"),\n",
    ")\n",
    "\n",
    "nodes_location = os.path.join(DATA_FOLDER, \"nodes\")\n",
    "edges_location = os.path.join(DATA_FOLDER, \"edges\")\n",
    "\n",
    "nodes = nodes.repartition(\"transaction_date\")\n",
    "nodes.write.partitionBy(\"transaction_date\").mode(\"overwrite\").parquet(nodes_location)\n",
    "\n",
    "partition_by = [\"src_date\", \"dst_date\"]\n",
    "edges.repartition(*partition_by).write.partitionBy(*partition_by).mode(\"overwrite\").parquet(edges_location)\n",
    "\n",
    "nodes = spark.read.parquet(nodes_location)\n",
    "edges = spark.read.parquet(edges_location)"
   ]
  },
  {
   "cell_type": "code",
   "execution_count": 13,
   "id": "cf2775b9",
   "metadata": {},
   "outputs": [
    {
     "data": {
      "image/png": "[encoded data removed]",
      "text/plain": [
       "<Figure size 432x288 with 1 Axes>"
      ]
     },
     "metadata": {},
     "output_type": "display_data"
    }
   ],
   "source": [
    "# Plot the temporal graph\n",
    "\n",
    "edges_temporal = edges.toPandas().sort_values([\"dst\", \"src\"]).reset_index(drop=True)\n",
    "temporal_graph = nx.convert_matrix.from_pandas_edgelist(\n",
    "    edges_temporal, source=\"src\", target=\"dst\", create_using=nx.DiGraph\n",
    ")\n",
    "pos = {\n",
    "    1: [0, 2],\n",
    "    2: [2, 2],\n",
    "    3: [0, 1],\n",
    "    4: [2, 1],\n",
    "    5: [4, 2],\n",
    "    6: [3, 3],\n",
    "    7: [5, 3],\n",
    "    8: [6, 1],\n",
    "    9: [6, 0],\n",
    "    10: [8, 1]\n",
    "}\n",
    "nx.draw(temporal_graph, pos=pos, node_size=1000, with_labels=True)"
   ]
  },
  {
   "cell_type": "markdown",
   "id": "79b754a8",
   "metadata": {},
   "source": [
    "## 2nd Order Graph of Sequential Transactions"
   ]
  },
  {
   "cell_type": "code",
   "execution_count": 14,
   "id": "c124924e",
   "metadata": {},
   "outputs": [],
   "source": [
    "location_co_occurrences = os.path.join(DATA_FOLDER, \"co-occurrences\")\n",
    "shutil.rmtree(location_co_occurrences, ignore_errors=True)\n",
    "\n",
    "# This part can be modified to create higher order graphs\n",
    "pattern = \"(x1) - [e1] -> (x2)\"\n",
    "src_second_order = sf.concat(sf.col(\"x1.source\"), sf.lit(\">>\"), sf.col(\"x1.target\")).alias(\"src\")\n",
    "dst_second_order = sf.concat(sf.col(\"x2.source\"), sf.lit(\">>\"), sf.col(\"x2.target\")).alias(\"dst\")\n",
    "dates = edges.groupby([\"src_date\", \"dst_date\"]).agg(sf.first(\"src_date\")).toPandas()\n",
    "dates = [(row[\"src_date\"], row[\"dst_date\"]) for index, row in dates.iterrows()]\n",
    "dst_dates = sorted(set([x for _, x in dates]))\n",
    "for dst_date in dst_dates:\n",
    "    edges_dates = [(x, y) for x, y in dates if y == dst_date]\n",
    "    nodes_dates = sorted(set([x for y in edges_dates for x in y]))\n",
    "    edges_locations = [f\"{edges_location}/src_date={x}/dst_date={y}\" for x, y in edges_dates]\n",
    "    nodes_locations = [f\"{nodes_location}/transaction_date={x}\" for x in nodes_dates]\n",
    "    graph = GraphFrame(spark.read.parquet(*nodes_locations), spark.read.parquet(*edges_locations))\n",
    "    (\n",
    "        graph.find(pattern)\n",
    "        .select(\n",
    "            src_second_order,\n",
    "            dst_second_order,\n",
    "            sf.col(\"x1.transaction_timestamp\").alias(\"ts\"),\n",
    "            sf.col(\"x2.id\").alias(\"right\"),\n",
    "        )\n",
    "        .groupby([\"src\", \"right\"])\n",
    "        .agg(sf.first(\"dst\").alias(\"dst\"), sf.max(\"ts\").alias(\"moment\"))\n",
    "        # NOTE: The weights will be calculated per distinct `moment`\n",
    "        # This means, for instance [t1]A>>B ---> [t3]A>>B ---> [t4]B>>C is counted once\n",
    "        .select(\"src\", \"dst\", \"moment\")\n",
    "        .drop_duplicates()\n",
    "    ).write.mode(\"overwrite\").parquet(f\"{location_co_occurrences}/date={dst_date}\")\n",
    "\n",
    "co_occurrences = spark.read.parquet(location_co_occurrences)\n",
    "\n",
    "location_counts = os.path.join(DATA_FOLDER, \"co-occurrences-counts\")\n",
    "(co_occurrences.drop_duplicates().groupby([\"src\", \"dst\"]).count().write.mode(\"overwrite\").parquet(location_counts))\n",
    "\n",
    "counts_data = spark.read.parquet(location_counts)\n",
    "src_perspective = counts_data.groupby(\"src\").agg(sf.sum(\"count\").alias(\"src_total\"))\n",
    "dst_perspective = counts_data.groupby(\"dst\").agg(sf.sum(\"count\").alias(\"dst_total\"))\n",
    "\n",
    "location_second_order = os.path.join(DATA_FOLDER, \"second-order\")\n",
    "weights = (\n",
    "    counts_data.join(src_perspective, \"src\", \"left\")\n",
    "    .withColumn(\"weight_src\", (sf.col(\"count\") / sf.col(\"src_total\")))\n",
    "    .select(\"src\", \"dst\", \"count\", \"weight_src\")\n",
    "    .join(dst_perspective, \"dst\", \"left\")\n",
    "    .withColumn(\"weight_dst\", (sf.col(\"count\") / sf.col(\"dst_total\")))\n",
    "    .select(\"src\", \"dst\", \"weight_src\", \"weight_dst\")\n",
    ").select(\"src\", \"dst\", sf.greatest(sf.col(\"weight_src\"), sf.col(\"weight_dst\")).alias(\"weight\"))\n",
    "weights.write.mode(\"overwrite\").parquet(location_second_order)"
   ]
  },
  {
   "cell_type": "code",
   "execution_count": 15,
   "id": "96b657a2",
   "metadata": {},
   "outputs": [
    {
     "data": {
      "image/png": "[encoded data removed]",
      "text/plain": [
       "<Figure size 432x288 with 1 Axes>"
      ]
     },
     "metadata": {},
     "output_type": "display_data"
    }
   ],
   "source": [
    "# Plot the 2nd order graph\n",
    "\n",
    "# NOTE: The weights will be calculated per distinct `moment`\n",
    "# This means, for instance [t1]A>>B ---> [t3]A>>B ---> [t4]B>>C is counted once\n",
    "edges_second_order = co_occurrences.toPandas().sort_values([\"src\", \"dst\"]).reset_index(drop=True)\n",
    "second_order_graph = nx.convert_matrix.from_pandas_edgelist(\n",
    "    edges_second_order, source=\"src\", target=\"dst\", create_using=nx.DiGraph\n",
    ")\n",
    "pos = {\n",
    "    \"A>>B\": [0, 1],\n",
    "    \"B>>C\": [0, 2],\n",
    "    \"B>>D\": [2, 2],\n",
    "    \"D>>E\": [2, 1],\n",
    "    \"E>>A\": [4, 2],\n",
    "    \"A>>K\": [6, 1],\n",
    "    \"E>>L\": [3, 4],\n",
    "    \"D>>L\": [3, 3],\n",
    "    \"L>>M\": [5, 3],\n",
    "}\n",
    "nx.draw(second_order_graph, pos=pos, node_size=1500, with_labels=True)"
   ]
  },
  {
   "cell_type": "markdown",
   "id": "e022774e",
   "metadata": {},
   "source": [
    "### Apply weights to the temporal graph"
   ]
  },
  {
   "cell_type": "code",
   "execution_count": 16,
   "id": "cb43d167",
   "metadata": {},
   "outputs": [],
   "source": [
    "location_edges_staging = os.path.join(DATA_FOLDER, \"edges-staging\")\n",
    "shutil.rmtree(location_edges_staging, ignore_errors=True)\n",
    "\n",
    "weights = spark.read.parquet(location_second_order)\n",
    "# Remove very weak edges\n",
    "weights_filtered = weights.where(sf.col(\"weight\") >= MIN_EDGE_WEIGHT)\n",
    "src_dates = sorted(set([x for x, _ in dates]))\n",
    "all_nodes_dates = sorted(set([x for y in dates for x in y]))\n",
    "columns = [sf.col(\"src_id\").alias(\"src\"), sf.col(\"dst_id\").alias(\"dst\"), \"weight\", \"src_date\", \"dst_date\"]\n",
    "for src_date in src_dates:\n",
    "    src_edges = spark.read.option(\"basePath\", edges_location).parquet(f\"{edges_location}/src_date={src_date}\")\n",
    "    nodes_dates = [x.date() for x in pd.date_range(src_date, freq=\"d\", periods=WINDOW + 1)]\n",
    "    nodes_dates = [str(x) for x in set(nodes_dates).intersection(all_nodes_dates)]\n",
    "    nodes_locations = [f\"{nodes_location}/transaction_date={x}\" for x in nodes_dates]\n",
    "    graph = GraphFrame(spark.read.option(\"basePath\", nodes_location).parquet(*nodes_locations), src_edges)\n",
    "    (\n",
    "        graph.find(pattern)\n",
    "        .select(\n",
    "            sf.col(\"x1.id\").alias(\"src_id\"),\n",
    "            sf.col(\"x2.id\").alias(\"dst_id\"),\n",
    "            sf.col(\"x1.transaction_date\").alias(\"src_date\"),\n",
    "            sf.col(\"x2.transaction_date\").alias(\"dst_date\"),\n",
    "            src_second_order,\n",
    "            dst_second_order,\n",
    "        )\n",
    "        .join(\n",
    "            weights_filtered,\n",
    "            [\"src\", \"dst\"],\n",
    "            \"inner\",\n",
    "        )\n",
    "        .drop(\"src\", \"dst\")\n",
    "        .select(*columns)\n",
    "    ).write.mode(\"overwrite\").parquet(f\"{location_edges_staging}/staging_date={src_date}\")\n",
    "\n",
    "edges_staged = spark.read.parquet(location_edges_staging).drop(\"staging_date\")\n",
    "nodes = spark.read.parquet(nodes_location)\n",
    "\n",
    "edges_filtered_location = os.path.join(DATA_FOLDER, \"edges-filtered\")\n",
    "nodes_filtered_location = os.path.join(DATA_FOLDER, \"nodes-filtered\")\n",
    "\n",
    "partition_by = [\"src_date\", \"dst_date\"]\n",
    "edges_staged.repartition(*partition_by).write.partitionBy(*partition_by).mode(\"overwrite\").parquet(\n",
    "    edges_filtered_location\n",
    ")\n",
    "edges_filtered = spark.read.parquet(edges_filtered_location)\n",
    "\n",
    "nodes_1 = edges_filtered.select(sf.col(\"src\").alias(\"id\")).drop_duplicates(subset=[\"id\"])\n",
    "nodes_2 = edges_filtered.select(sf.col(\"dst\").alias(\"id\")).drop_duplicates(subset=[\"id\"])\n",
    "node_ids = nodes_1.union(nodes_2).drop_duplicates(subset=[\"id\"])\n",
    "\n",
    "partition = \"transaction_date\"\n",
    "node_ids.join(nodes, \"id\", \"left\").repartition(partition).write.partitionBy(partition).mode(\"overwrite\").parquet(\n",
    "    nodes_filtered_location\n",
    ")\n",
    "\n",
    "nodes = spark.read.parquet(nodes_filtered_location)\n",
    "edges = spark.read.parquet(edges_filtered_location)"
   ]
  },
  {
   "cell_type": "markdown",
   "id": "50617123",
   "metadata": {},
   "source": [
    "## Community Detection on a single Window"
   ]
  },
  {
   "cell_type": "code",
   "execution_count": 17,
   "id": "04f34f5a",
   "metadata": {},
   "outputs": [
    {
     "data": {
      "text/html": [
       "<div>\n",
       "<style scoped>\n",
       "    .dataframe tbody tr th:only-of-type {\n",
       "        vertical-align: middle;\n",
       "    }\n",
       "\n",
       "    .dataframe tbody tr th {\n",
       "        vertical-align: top;\n",
       "    }\n",
       "\n",
       "    .dataframe thead th {\n",
       "        text-align: right;\n",
       "    }\n",
       "</style>\n",
       "<table border=\"1\" class=\"dataframe\">\n",
       "  <thead>\n",
       "    <tr style=\"text-align: right;\">\n",
       "      <th></th>\n",
       "      <th>name</th>\n",
       "      <th>label</th>\n",
       "    </tr>\n",
       "    <tr>\n",
       "      <th>vertex ID</th>\n",
       "      <th></th>\n",
       "      <th></th>\n",
       "    </tr>\n",
       "  </thead>\n",
       "  <tbody>\n",
       "    <tr>\n",
       "      <th>1</th>\n",
       "      <td>4</td>\n",
       "      <td>0</td>\n",
       "    </tr>\n",
       "    <tr>\n",
       "      <th>4</th>\n",
       "      <td>3</td>\n",
       "      <td>0</td>\n",
       "    </tr>\n",
       "    <tr>\n",
       "      <th>2</th>\n",
       "      <td>2</td>\n",
       "      <td>1</td>\n",
       "    </tr>\n",
       "    <tr>\n",
       "      <th>3</th>\n",
       "      <td>5</td>\n",
       "      <td>1</td>\n",
       "    </tr>\n",
       "    <tr>\n",
       "      <th>0</th>\n",
       "      <td>1</td>\n",
       "      <td>2</td>\n",
       "    </tr>\n",
       "  </tbody>\n",
       "</table>\n",
       "</div>"
      ],
      "text/plain": [
       "           name  label\n",
       "vertex ID             \n",
       "1             4      0\n",
       "4             3      0\n",
       "2             2      1\n",
       "3             5      1\n",
       "0             1      2"
      ]
     },
     "execution_count": 17,
     "metadata": {},
     "output_type": "execute_result"
    }
   ],
   "source": [
    "window_start_date = transactions.transaction_date.min()\n",
    "window = pd.date_range(window_start_date, freq=\"d\", periods=WINDOW)\n",
    "window = [f\"{edges_filtered_location}/src_date={x.date()}\" for x in window]\n",
    "window_data = spark.read.option(\"basePath\", edges_filtered_location).parquet(*window).toPandas()\n",
    "\n",
    "graph = ig.Graph.DataFrame(window_data, use_vids=False, directed=True)\n",
    "communities = la.find_partition(graph, la.ModularityVertexPartition, weights=\"weight\", n_iterations=5)\n",
    "communities_output = graph.get_vertex_dataframe()\n",
    "communities_output.loc[:, \"label\"] = communities.membership\n",
    "communities_output.sort_values(\"label\")"
   ]
  },
  {
   "cell_type": "markdown",
   "id": "52cef8c1",
   "metadata": {},
   "source": [
    "## Community Detection on the complete dataset"
   ]
  },
  {
   "cell_type": "code",
   "execution_count": 18,
   "id": "e296d263",
   "metadata": {},
   "outputs": [],
   "source": [
    "complete = spark.read.parquet(edges_filtered_location).toPandas()\n",
    "\n",
    "graph = ig.Graph.DataFrame(complete, use_vids=False, directed=True)\n",
    "communities = la.find_partition(graph, la.ModularityVertexPartition, weights=\"weight\", n_iterations=5)\n",
    "communities_output = graph.get_vertex_dataframe()\n",
    "communities_output.loc[:, \"label\"] = communities.membership"
   ]
  },
  {
   "cell_type": "code",
   "execution_count": 19,
   "id": "4ebbe7b1",
   "metadata": {},
   "outputs": [
    {
     "data": {
      "image/png": "[encoded data removed]",
      "text/plain": [
       "<Figure size 432x288 with 1 Axes>"
      ]
     },
     "metadata": {},
     "output_type": "display_data"
    }
   ],
   "source": [
    "# Plot the communities\n",
    "\n",
    "communities_graph = nx.DiGraph()\n",
    "for key, group in communities_output.groupby(\"label\"):\n",
    "    nodes = group[\"name\"].tolist()\n",
    "    communities_graph.add_edges_from([sorted(x) for x in zip(nodes[1:], nodes)])\n",
    "\n",
    "color_map = [\"red\", \"red\", \"red\", \"red\", \"green\", \"green\", \"green\", \"blue\", \"blue\", \"blue\"]\n",
    "pos = {\n",
    "    1: [0, 1],\n",
    "    2: [0, 1.5],\n",
    "    3: [2, 1.5],\n",
    "    4: [2, 1],\n",
    "    5: [4, 2],\n",
    "    6: [5, 1.5],\n",
    "    7: [6, 2],\n",
    "    8: [8, 1.5],\n",
    "    9: [10, 1.5],\n",
    "    10: [9, 1],\n",
    "}\n",
    "nx.draw(communities_graph, pos=pos, node_size=1500, node_color=color_map, with_labels=True)"
   ]
  },
  {
   "cell_type": "markdown",
   "id": "39e2ef61",
   "metadata": {},
   "source": [
    "## [Undisclosed] Risk-based scoring of the communities"
   ]
  }
 ],
 "metadata": {
  "kernelspec": {
   "display_name": "Python 3 (ipykernel)",
   "language": "python",
   "name": "python3"
  },
  "language_info": {
   "codemirror_mode": {
    "name": "ipython",
    "version": 3
   },
   "file_extension": ".py",
   "mimetype": "text/x-python",
   "name": "python",
   "nbconvert_exporter": "python",
   "pygments_lexer": "ipython3",
   "version": "3.9.7"
  }
 },
 "nbformat": 4,
 "nbformat_minor": 5
}
